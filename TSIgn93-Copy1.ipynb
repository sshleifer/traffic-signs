{
 "cells": [
  {
   "cell_type": "markdown",
   "metadata": {},
   "source": [
    "# Self-Driving Car Engineer Nanodegree\n",
    "\n",
    "## Deep Learning\n",
    "\n",
    "## Project: Build a Traffic Sign Recognition Classifier\n",
    "\n",
    "In this notebook, a template is provided for you to implement your functionality in stages, which is required to successfully complete this project. If additional code is required that cannot be included in the notebook, be sure that the Python code is successfully imported and included in your submission if necessary. \n",
    "\n",
    "> **Note**: Once you have completed all of the code implementations, you need to finalize your work by exporting the iPython Notebook as an HTML document. Before exporting the notebook to html, all of the code cells need to have been run so that reviewers can see the final implementation and output. You can then export the notebook by using the menu above and navigating to  \\n\",\n",
    "    \"**File -> Download as -> HTML (.html)**. Include the finished document along with this notebook as your submission. \n",
    "\n",
    "In addition to implementing code, there is a writeup to complete. The writeup should be completed in a separate file, which can be either a markdown file or a pdf document. There is a [write up template](https://github.com/udacity/CarND-Traffic-Sign-Classifier-Project/blob/master/writeup_template.md) that can be used to guide the writing process. Completing the code template and writeup template will cover all of the [rubric points](https://review.udacity.com/#!/rubrics/481/view) for this project.\n",
    "\n",
    "The [rubric](https://review.udacity.com/#!/rubrics/481/view) contains \"Stand Out Suggestions\" for enhancing the project beyond the minimum requirements. The stand out suggestions are optional. If you decide to pursue the \"stand out suggestions\", you can include the code in this Ipython notebook and also discuss the results in the writeup file.\n",
    "\n",
    "\n",
    ">**Note:** Code and Markdown cells can be executed using the **Shift + Enter** keyboard shortcut. In addition, Markdown cells can be edited by typically double-clicking the cell to enter edit mode."
   ]
  },
  {
   "cell_type": "code",
   "execution_count": 1,
   "metadata": {
    "collapsed": true
   },
   "outputs": [],
   "source": [
    "# common import for all cells\n",
    "SEED=202\n",
    "DATA_DIR='/root/share/project/udacity/project2_02/data'\n",
    "OUT_DIR ='/root/share/out/udacity/08'\n",
    "\n",
    "# standard libs\n",
    "import pickle\n",
    "import csv\n",
    "from timeit import default_timer as timer\n",
    "import os\n",
    "import sys\n",
    "\n",
    "\n",
    "#visualisation\n",
    "%matplotlib inline\n",
    "\n",
    "import matplotlib.pyplot as plt \n",
    "from IPython.display import Image\n",
    "from IPython.display import display\n",
    "\n",
    "# numerical libs \n",
    "import cv2\n",
    "import math\n",
    "\n",
    "import random\n",
    "import numpy as np\n",
    "random.seed(SEED)\n",
    "np.random.seed(SEED)\n",
    "\n",
    "import tensorflow as tf\n",
    "tf.set_random_seed(SEED)\n",
    "\n",
    "from tensorflow.python.training import moving_averages\n",
    "from tensorflow.contrib.framework import add_model_variable\n",
    "sess = tf.InteractiveSession()\n"
   ]
  },
  {
   "cell_type": "markdown",
   "metadata": {},
   "source": [
    "---\n",
    "## Step 0: Load The Data"
   ]
  },
  {
   "cell_type": "code",
   "execution_count": 2,
   "metadata": {
    "collapsed": true
   },
   "outputs": [],
   "source": [
    "# Load pickled data\n",
    "import pickle\n",
    "\n",
    "# TODO: Fill this in based on where you saved the training and testing data\n",
    "data_dir = '/Users/shleifer/flow/CarND-Traffic-Sign-Classifier-Project/traffic-signs-data/'\n",
    "DATA_DIR = data_dir\n",
    "training_file = data_dir + 'train.p'\n",
    "validation_file= data_dir + 'valid.p'\n",
    "testing_file =data_dir + 'test.p'\n",
    "\n",
    "#testing_file = ?\n",
    "\n",
    "with open(training_file, mode='rb') as f:\n",
    "    train = pickle.load(f)\n",
    "with open(validation_file, mode='rb') as f:\n",
    "    valid = pickle.load(f)\n",
    "with open(testing_file, mode='rb') as f:\n",
    "    test = pickle.load(f)\n",
    "    \n"
   ]
  },
  {
   "cell_type": "markdown",
   "metadata": {},
   "source": [
    "---\n",
    "\n",
    "## Step 1: Dataset Summary & Exploration\n",
    "\n",
    "The pickled data is a dictionary with 4 key/value pairs:\n",
    "\n",
    "- `'features'` is a 4D array containing raw pixel data of the traffic sign images, (num examples, width, height, channels).\n",
    "- `'labels'` is a 1D array containing the label/class id of the traffic sign. The file `signnames.csv` contains id -> name mappings for each id.\n",
    "- `'sizes'` is a list containing tuples, (width, height) representing the original width and height the image.\n",
    "- `'coords'` is a list containing tuples, (x1, y1, x2, y2) representing coordinates of a bounding box around the sign in the image. **THESE COORDINATES ASSUME THE ORIGINAL IMAGE. THE PICKLED DATA CONTAINS RESIZED VERSIONS (32 by 32) OF THESE IMAGES**\n",
    "\n",
    "Complete the basic data summary below. Use python, numpy and/or pandas methods to calculate the data summary rather than hard coding the results. For example, the [pandas shape method](http://pandas.pydata.org/pandas-docs/stable/generated/pandas.DataFrame.shape.html) might be useful for calculating some of the summary results. "
   ]
  },
  {
   "cell_type": "code",
   "execution_count": 3,
   "metadata": {
    "collapsed": true
   },
   "outputs": [],
   "source": [
    "import matplotlib.pyplot as plt"
   ]
  },
  {
   "cell_type": "code",
   "execution_count": 4,
   "metadata": {
    "collapsed": true
   },
   "outputs": [],
   "source": [
    "import pandas as pd\n",
    "#pd.Series(y_test)"
   ]
  },
  {
   "cell_type": "markdown",
   "metadata": {},
   "source": [
    "### Provide a Basic Summary of the Data Set Using Python, Numpy and/or Pandas"
   ]
  },
  {
   "cell_type": "code",
   "execution_count": 7,
   "metadata": {},
   "outputs": [
    {
     "ename": "NameError",
     "evalue": "name 'X_train' is not defined",
     "output_type": "error",
     "traceback": [
      "\u001b[0;31m---------------------------------------------------------------------------\u001b[0m",
      "\u001b[0;31mNameError\u001b[0m                                 Traceback (most recent call last)",
      "\u001b[0;32m<ipython-input-7-3333eeb46b41>\u001b[0m in \u001b[0;36m<module>\u001b[0;34m()\u001b[0m\n\u001b[1;32m      3\u001b[0m \u001b[0;34m\u001b[0m\u001b[0m\n\u001b[1;32m      4\u001b[0m \u001b[0;31m# TODO: Number of training examples\u001b[0m\u001b[0;34m\u001b[0m\u001b[0;34m\u001b[0m\u001b[0m\n\u001b[0;32m----> 5\u001b[0;31m \u001b[0mn_train\u001b[0m \u001b[0;34m=\u001b[0m \u001b[0mX_train\u001b[0m\u001b[0;34m.\u001b[0m\u001b[0mshape\u001b[0m\u001b[0;34m[\u001b[0m\u001b[0;36m0\u001b[0m\u001b[0;34m]\u001b[0m\u001b[0;34m\u001b[0m\u001b[0m\n\u001b[0m\u001b[1;32m      6\u001b[0m \u001b[0;34m\u001b[0m\u001b[0m\n\u001b[1;32m      7\u001b[0m \u001b[0;31m# TODO: Number of validation examples\u001b[0m\u001b[0;34m\u001b[0m\u001b[0;34m\u001b[0m\u001b[0m\n",
      "\u001b[0;31mNameError\u001b[0m: name 'X_train' is not defined"
     ]
    }
   ],
   "source": [
    "### Replace each question mark with the appropriate value. \n",
    "### Use python, pandas or numpy methods rather than hard coding the results\n",
    "\n",
    "# TODO: Number of training examples\n",
    "n_train = X_train.shape[0]\n",
    "\n",
    "# TODO: Number of validation examples\n",
    "n_validation = X_valid.shape[0]\n",
    "\n",
    "# TODO: Number of testing examples.\n",
    "n_test = X_valid.shape[0]\n",
    "\n",
    "# TODO: What's the shape of an traffic sign image?\n",
    "image_shape = X_train.shape[1:]\n",
    "# TODO: How many unique classes/labels there are in the dataset.\n",
    "n_classes = pd.Series(y_train).nunique()\n",
    "\n",
    "print(\"Number of training examples =\", n_train)\n",
    "print(\"Number of testing examples =\", n_test)\n",
    "print(\"Image data shape =\", image_shape)\n",
    "print(\"Number of classes =\", n_classes)"
   ]
  },
  {
   "cell_type": "code",
   "execution_count": 218,
   "metadata": {
    "collapsed": true
   },
   "outputs": [],
   "source": [
    "classnames = pd.read_csv('signnames.csv', index_col=0).SignName"
   ]
  },
  {
   "cell_type": "markdown",
   "metadata": {},
   "source": [
    "### Include an exploratory visualization of the dataset"
   ]
  },
  {
   "cell_type": "markdown",
   "metadata": {},
   "source": [
    "Visualize the German Traffic Signs Dataset using the pickled file(s). This is open ended, suggestions include: plotting traffic sign images, plotting the count of each sign, etc. \n",
    "\n",
    "The [Matplotlib](http://matplotlib.org/) [examples](http://matplotlib.org/examples/index.html) and [gallery](http://matplotlib.org/gallery.html) pages are a great resource for doing visualizations in Python.\n",
    "\n",
    "**NOTE:** It's recommended you start with something simple first. If you wish to do more, come back to it after you've completed the rest of the sections. It can be interesting to look at the distribution of classes in the training, validation and test set. Is the distribution the same? Are there more examples of some classes than others?"
   ]
  },
  {
   "cell_type": "code",
   "execution_count": 8,
   "metadata": {
    "collapsed": true
   },
   "outputs": [],
   "source": [
    "signnames_path =  'udacity-driverless-car-nd-p2/data/signnames_all.jpg'"
   ]
  },
  {
   "cell_type": "code",
   "execution_count": 219,
   "metadata": {
    "collapsed": true
   },
   "outputs": [],
   "source": [
    "# TODO: Number of training examples \n",
    "num_train = len(X_train)\n",
    "\n",
    "# TODO: Number of testing examples.\n",
    "num_test = len(X_test)\n",
    "\n",
    "# TODO: What's the shape of an traffic sign image?\n",
    "_, height, width, channel = X_train.shape\n",
    "image_shape = (height, width, channel)\n",
    "\n",
    "# TODO: How many unique classes/labels there are in the dataset.\n",
    "num_class = len(np.unique(y_train))"
   ]
  },
  {
   "cell_type": "code",
   "execution_count": 220,
   "metadata": {
    "collapsed": true
   },
   "outputs": [],
   "source": [
    "### Data exploration visualization code goes here.\n",
    "### Feel free to use as many code cells as needed.\n",
    "import matplotlib.pyplot as plt\n",
    "# Visualizations will be shown in the notebook.\n",
    "%matplotlib inline"
   ]
  },
  {
   "cell_type": "code",
   "execution_count": 221,
   "metadata": {
    "collapsed": true
   },
   "outputs": [],
   "source": [
    "import numpy as np"
   ]
  },
  {
   "cell_type": "code",
   "execution_count": 222,
   "metadata": {
    "collapsed": true
   },
   "outputs": [],
   "source": [
    "from matplotlib.pyplot import imshow"
   ]
  },
  {
   "cell_type": "code",
   "execution_count": null,
   "metadata": {
    "collapsed": true
   },
   "outputs": [],
   "source": [
    "pd.value_counts(y_train, normalize=True).round(3).plot.bar()"
   ]
  },
  {
   "cell_type": "code",
   "execution_count": null,
   "metadata": {
    "collapsed": true
   },
   "outputs": [],
   "source": [
    "#imshow(get_label_image(1))"
   ]
  },
  {
   "cell_type": "code",
   "execution_count": null,
   "metadata": {
    "collapsed": true
   },
   "outputs": [],
   "source": [
    "n_classes"
   ]
  },
  {
   "cell_type": "code",
   "execution_count": null,
   "metadata": {
    "collapsed": true
   },
   "outputs": [],
   "source": [
    "ls {DATA_DIR}"
   ]
  },
  {
   "cell_type": "markdown",
   "metadata": {},
   "source": [
    "----\n",
    "\n",
    "## Step 2: Design and Test a Model Architecture\n",
    "\n",
    "Design and implement a deep learning model that learns to recognize traffic signs. Train and test your model on the [German Traffic Sign Dataset](http://benchmark.ini.rub.de/?section=gtsrb&subsection=dataset).\n",
    "\n",
    "The LeNet-5 implementation shown in the [classroom](https://classroom.udacity.com/nanodegrees/nd013/parts/fbf77062-5703-404e-b60c-95b78b2f3f9e/modules/6df7ae49-c61c-4bb2-a23e-6527e69209ec/lessons/601ae704-1035-4287-8b11-e2c2716217ad/concepts/d4aca031-508f-4e0b-b493-e7b706120f81) at the end of the CNN lesson is a solid starting point. You'll have to change the number of classes and possibly the preprocessing, but aside from that it's plug and play! \n",
    "\n",
    "With the LeNet-5 solution from the lecture, you should expect a validation set accuracy of about 0.89. To meet specifications, the validation set accuracy will need to be at least 0.93. It is possible to get an even higher accuracy, but 0.93 is the minimum for a successful project submission. \n",
    "\n",
    "There are various aspects to consider when thinking about this problem:\n",
    "\n",
    "- Neural network architecture (is the network over or underfitting?)\n",
    "- Play around preprocessing techniques (normalization, rgb to grayscale, etc)\n",
    "- Number of examples per label (some have more than others).\n",
    "- Generate fake data.\n",
    "\n",
    "Here is an example of a [published baseline model on this problem](http://yann.lecun.com/exdb/publis/pdf/sermanet-ijcnn-11.pdf). It's not required to be familiar with the approach used in the paper but, it's good practice to try to read papers like these."
   ]
  },
  {
   "cell_type": "markdown",
   "metadata": {},
   "source": [
    "### Pre-process the Data Set (normalization, grayscale, etc.)"
   ]
  },
  {
   "cell_type": "markdown",
   "metadata": {},
   "source": [
    "Minimally, the image data should be normalized so that the data has mean zero and equal variance. For image data, `(pixel - 128)/ 128` is a quick way to approximately normalize the data and can be used in this project. \n",
    "\n",
    "Other pre-processing steps are optional. You can try different techniques to see if it improves performance. \n",
    "\n",
    "Use the code cell (or multiple code cells, if necessary) to implement the first step of your project."
   ]
  },
  {
   "cell_type": "code",
   "execution_count": null,
   "metadata": {
    "collapsed": true
   },
   "outputs": [],
   "source": [
    "### Preprocess the data here. \n",
    "### It is required to normalize the data. Other preprocessing steps could include \n",
    "### converting to grayscale, etc.\n",
    "### Feel free to use as many code cells as needed."
   ]
  },
  {
   "cell_type": "code",
   "execution_count": null,
   "metadata": {
    "collapsed": true
   },
   "outputs": [],
   "source": [
    "from sklearn.preprocessing import MinMaxScaler"
   ]
  },
  {
   "cell_type": "code",
   "execution_count": null,
   "metadata": {
    "collapsed": true
   },
   "outputs": [],
   "source": [
    "#cv2.normalize"
   ]
  },
  {
   "cell_type": "code",
   "execution_count": 232,
   "metadata": {
    "collapsed": true
   },
   "outputs": [],
   "source": [
    "def normalize(x):\n",
    "    return x / 127.5 -1"
   ]
  },
  {
   "cell_type": "code",
   "execution_count": 233,
   "metadata": {
    "collapsed": true
   },
   "outputs": [],
   "source": [
    "def show(x):\n",
    "    return ((x+1) * 127.5) "
   ]
  },
  {
   "cell_type": "code",
   "execution_count": 9,
   "metadata": {
    "collapsed": true
   },
   "outputs": [],
   "source": [
    "X_train, y_train = train['features'], train['labels']\n",
    "X_valid, y_valid = valid['features'], valid['labels']\n",
    "X_test, y_test = test['features'], test['labels']"
   ]
  },
  {
   "cell_type": "code",
   "execution_count": 10,
   "metadata": {
    "collapsed": true
   },
   "outputs": [],
   "source": [
    "X_train_normalized = X_train/127.5-1\n",
    "X_valid_normalized = X_valid/127.5-1\n",
    "X_test_normalized = X_test/127.5-1"
   ]
  },
  {
   "cell_type": "code",
   "execution_count": 212,
   "metadata": {
    "collapsed": true
   },
   "outputs": [],
   "source": [
    "name_values = np.genfromtxt('signnames.csv', skip_header=1, dtype=[('myint','i8'), ('mysring','S55')], delimiter=',')"
   ]
  },
  {
   "cell_type": "markdown",
   "metadata": {},
   "source": [
    "### Model Architecture"
   ]
  },
  {
   "cell_type": "code",
   "execution_count": 313,
   "metadata": {
    "code_folding": [
     0
    ],
    "collapsed": true
   },
   "outputs": [],
   "source": []
  },
  {
   "cell_type": "code",
   "execution_count": 341,
   "metadata": {
    "code_folding": [
     0,
     24
    ],
    "collapsed": true
   },
   "outputs": [],
   "source": [
    "def bn (input, decay=0.9, eps=1e-5, name='bn'):\n",
    "    with tf.variable_scope(name) as scope:\n",
    "        bn = tf.cond(IS_TRAIN_PHASE,\n",
    "            lambda: tf.contrib.layers.batch_norm(input,  decay=decay, epsilon=eps, center=True, scale=True,\n",
    "                              is_training=1,reuse=None,\n",
    "                              updates_collections=None, scope=scope),\n",
    "            lambda: tf.contrib.layers.batch_norm(input, decay=decay, epsilon=eps, center=True, scale=True,\n",
    "                              is_training=0, reuse=True,\n",
    "                              updates_collections=None, scope=scope))\n",
    "\n",
    "    return bn\n",
    "\n",
    "def variable_summaries(var):\n",
    "  \"\"\"Attach a lot of summaries to a Tensor (for TensorBoard visualization).\"\"\"\n",
    "  with tf.name_scope('summaries'):\n",
    "    mean = tf.reduce_mean(var)\n",
    "    tf.summary.scalar('mean', mean)\n",
    "    with tf.name_scope('stddev'):\n",
    "      stddev = tf.sqrt(tf.reduce_mean(tf.square(var - mean)))\n",
    "    tf.summary.scalar('stddev', stddev)\n",
    "    tf.summary.scalar('max', tf.reduce_max(var))\n",
    "    tf.summary.scalar('min', tf.reduce_min(var))\n",
    "    tf.summary.histogram('histogram', var)\n",
    "    \n",
    "def nn_layer(input_tensor, input_dim, output_dim, layer_name, act=tf.nn.relu):\n",
    "  \"\"\"Reusable code for making a simple neural net layer.\n",
    "\n",
    "  It does a matrix multiply, bias add, and then uses relu to nonlinearize.\n",
    "  It also sets up name scoping so that the resultant graph is easy to read,\n",
    "  and adds a number of summary ops.\n",
    "  \"\"\"\n",
    "  # Adding a name scope ensures logical grouping of the layers in the graph.\n",
    "  with tf.name_scope(layer_name):\n",
    "    # This Variable will hold the state of the weights for the layer\n",
    "    with tf.name_scope('weights'):\n",
    "      weights = weight_variable([input_dim, output_dim])\n",
    "      variable_summaries(weights)\n",
    "    with tf.name_scope('biases'):\n",
    "      biases = bias_variable([output_dim])\n",
    "      variable_summaries(biases)\n",
    "    with tf.name_scope('Wx_plus_b'):\n",
    "      preactivate = tf.matmul(input_tensor, weights) + biases\n",
    "      tf.summary.histogram('pre_activations', preactivate)\n",
    "    dropout = tf.\n",
    "    activations = act(preactivate, name='activation')\n",
    "    tf.summary.histogram('activations', activations)\n",
    "    return activations\n"
   ]
  },
  {
   "cell_type": "markdown",
   "metadata": {},
   "source": [
    "### Train, Validate and Test the Model"
   ]
  },
  {
   "cell_type": "code",
   "execution_count": 42,
   "metadata": {},
   "outputs": [],
   "source": [
    "n_classes=43\n",
    "x = tf.placeholder(tf.float32, (None, 32, 32, 3))\n",
    "y = tf.placeholder(tf.int32, (None))\n",
    "one_hot_y = tf.one_hot(y, n_classes)"
   ]
  },
  {
   "cell_type": "code",
   "execution_count": 48,
   "metadata": {
    "code_folding": [
     60
    ],
    "collapsed": true
   },
   "outputs": [],
   "source": [
    "from tensorflow.contrib.layers import flatten\n",
    "\n",
    "mu = 0\n",
    "sigma = 0.1\n",
    "\n",
    "def conv2d_relu(x, w_shape, strides=1, padding='VALID'):\n",
    "    W = tf.Variable(tf.truncated_normal(shape=w_shape, mean=mu, stddev=sigma))\n",
    "    b = tf.Variable(tf.zeros(w_shape[-1]))\n",
    "    x = tf.nn.conv2d(x, W, strides=[1, strides, strides, 1],\n",
    "                     padding=padding)\n",
    "    x = tf.nn.bias_add(x, b)\n",
    "    return tf.nn.relu(x)\n",
    "\n",
    "\n",
    "def fc_layer(x, num_outputs):\n",
    "    fc1 = tf.contrib.layers.fully_connected(x, num_outputs)\n",
    "    fc1 = tf.nn.dropout(fc1, keep_prob)\n",
    "    return tf.nn.relu(fc1)\n",
    "\n",
    "\n",
    "def LeNet(x, n_channels=3):\n",
    "    conv1 = conv2d_relu(x, (5, 5, 3, 6))\n",
    "    conv1 = tf.nn.max_pool(conv1, ksize=[1, 2, 2, 1], strides=[1, 2, 2, 1], padding='VALID')\n",
    "\n",
    "    conv2 = conv2d_relu(conv1, (5, 5, 6, 16))\n",
    "    conv2 = tf.nn.max_pool(conv2, ksize=[1, 2, 2, 1], strides=[1, 2, 2, 1], padding='VALID')\n",
    "\n",
    "    # SOLUTION: Flatten. Input = 5x5x16. Output = 400.\n",
    "    fc0 = flatten(conv2)\n",
    "    fc1 = fc_layer(fc0, 120)\n",
    "    fc2 = fc_layer(fc1, 84)\n",
    "    logits = tf.contrib.layers.fully_connected(fc2, n_classes)\n",
    "    return logits"
   ]
  },
  {
   "cell_type": "code",
   "execution_count": 49,
   "metadata": {},
   "outputs": [],
   "source": [
    "rate = 0.001\n",
    "\n",
    "with tf.name_scope('metrics'):\n",
    "    logits = LeNet(x)\n",
    "    #tf.summary.histogram('logits', logits)\n",
    "    cross_entropy = tf.nn.softmax_cross_entropy_with_logits(labels=one_hot_y, \n",
    "                                                            logits=logits)\n",
    "    \n",
    "    loss_operation = tf.reduce_mean(cross_entropy)\n",
    "    #tf.summary.scalar('loss_operation', loss_operation)\n",
    "    optimizer = tf.train.AdamOptimizer(learning_rate = rate)\n",
    "    training_operation = optimizer.minimize(loss_operation)\n",
    "    correct_prediction = tf.equal(tf.argmax(logits, 1), tf.argmax(one_hot_y, 1))\n",
    "    \n",
    "    accuracy_operation = tf.reduce_mean(tf.cast(correct_prediction, tf.float32),)\n",
    "    tf.summary.scalar('accuracy', accuracy_operation)"
   ]
  },
  {
   "cell_type": "code",
   "execution_count": 50,
   "metadata": {
    "collapsed": true
   },
   "outputs": [],
   "source": [
    "xtr_raw = X_train\n",
    "xv_raw = X_valid\n",
    "X_train= X_train_normalized\n",
    "X_valid = X_valid_normalized"
   ]
  },
  {
   "cell_type": "code",
   "execution_count": 51,
   "metadata": {},
   "outputs": [
    {
     "data": {
      "text/plain": [
       "0.53216383079476426"
      ]
     },
     "execution_count": 51,
     "metadata": {},
     "output_type": "execute_result"
    }
   ],
   "source": [
    "X_train.std()"
   ]
  },
  {
   "cell_type": "code",
   "execution_count": 52,
   "metadata": {
    "collapsed": true
   },
   "outputs": [],
   "source": [
    "assert np.round(X_valid.std(), 2) == .55"
   ]
  },
  {
   "cell_type": "code",
   "execution_count": 53,
   "metadata": {
    "collapsed": true
   },
   "outputs": [],
   "source": [
    "\n",
    "saver = tf.train.Saver()\n",
    "\n",
    "def evaluate(X_data, y_data, num_examples=None):\n",
    "    if num_examples is None:\n",
    "        num_examples = len(X_data)\n",
    "    total_accuracy = 0\n",
    "    sess = tf.get_default_session()\n",
    "    for offset in range(0, num_examples, BATCH_SIZE):\n",
    "        batch_x, batch_y = X_data[offset:offset+BATCH_SIZE], y_data[offset:offset+BATCH_SIZE]\n",
    "        accuracy = sess.run(accuracy_operation, \n",
    "                            feed_dict={x: batch_x, y: batch_y,\n",
    "                                       keep_prob: 1.})\n",
    "        total_accuracy += (accuracy * len(batch_x))\n",
    "    return total_accuracy / num_examples\n"
   ]
  },
  {
   "cell_type": "code",
   "execution_count": 61,
   "metadata": {
    "collapsed": true
   },
   "outputs": [],
   "source": [
    "summ_dir = '/tmp/tensorflow/'\n",
    "merged = tf.summary.merge_all()\n",
    "train_writer = tf.summary.FileWriter(summ_dir + '/train',\n",
    "                                      sess.graph)\n",
    "test_writer = tf.summary.FileWriter(summ_dir + '/test')"
   ]
  },
  {
   "cell_type": "code",
   "execution_count": 422,
   "metadata": {
    "collapsed": true
   },
   "outputs": [],
   "source": [
    "EPOCHS = 10\n",
    "from sklearn.utils import shuffle\n",
    "BATCH_SIZE = 156"
   ]
  },
  {
   "cell_type": "code",
   "execution_count": 63,
   "metadata": {
    "collapsed": true
   },
   "outputs": [],
   "source": [
    "def log_accuracy(verbose=False):\n",
    "    validation_accuracy = evaluate(X_valid, y_valid)\n",
    "    train_accuracy = evaluate(X_train, y_train)\n",
    "    if verbose:\n",
    "        print(\"Train={:.3f}, Validation={:.3f}\".format(\n",
    "            train_accuracy, validation_accuracy))\n",
    "    return train_accuracy, validation_accuracy"
   ]
  },
  {
   "cell_type": "code",
   "execution_count": 65,
   "metadata": {
    "collapsed": true
   },
   "outputs": [],
   "source": [
    "EPOCHS = 17\n",
    "from sklearn.utils import shuffle\n",
    "BATCH_SIZE=156"
   ]
  },
  {
   "cell_type": "code",
   "execution_count": 66,
   "metadata": {
    "scrolled": false
   },
   "outputs": [
    {
     "name": "stdout",
     "output_type": "stream",
     "text": [
      "Training...\n",
      "EPOCH 1 ...\n",
      "Train=0.573, Validation=0.518\n",
      "EPOCH 2 ...\n",
      "Train=0.780, Validation=0.707\n",
      "EPOCH 3 ...\n",
      "Train=0.874, Validation=0.804\n",
      "EPOCH 4 ...\n",
      "Train=0.905, Validation=0.846\n",
      "EPOCH 5 ...\n",
      "Train=0.924, Validation=0.861\n",
      "EPOCH 6 ...\n",
      "Train=0.927, Validation=0.870\n",
      "EPOCH 7 ...\n",
      "Train=0.951, Validation=0.887\n",
      "EPOCH 8 ...\n",
      "Train=0.958, Validation=0.902\n",
      "EPOCH 9 ...\n",
      "Train=0.963, Validation=0.902\n",
      "EPOCH 10 ...\n",
      "Train=0.964, Validation=0.910\n",
      "EPOCH 11 ...\n",
      "Train=0.966, Validation=0.905\n",
      "EPOCH 12 ...\n",
      "Train=0.968, Validation=0.910\n",
      "EPOCH 13 ...\n",
      "Train=0.969, Validation=0.907\n",
      "EPOCH 14 ...\n",
      "Train=0.971, Validation=0.914\n",
      "EPOCH 15 ...\n",
      "Train=0.970, Validation=0.917\n",
      "EPOCH 16 ...\n",
      "Train=0.972, Validation=0.917\n",
      "EPOCH 17 ...\n",
      "Train=0.972, Validation=0.909\n",
      "Model saved\n",
      "CPU times: user 32min 28s, sys: 5min 55s, total: 38min 24s\n",
      "Wall time: 9min 19s\n"
     ]
    }
   ],
   "source": [
    "%%time\n",
    "\n",
    "train_accs = {}\n",
    "valid_accs = {}\n",
    "with tf.Session() as sess:\n",
    "    sess.run(tf.global_variables_initializer())\n",
    "    num_examples = len(X_train)\n",
    "    \n",
    "    print(\"Training...\")\n",
    "    for i in range(EPOCHS):\n",
    "        X_train, y_train = shuffle(X_train, y_train)\n",
    "        for j, offset in enumerate(range(0, num_examples, BATCH_SIZE)):\n",
    "            end = offset + BATCH_SIZE\n",
    "            batch_x, batch_y = X_train[offset:end], y_train[offset:end]\n",
    "            sess.run(training_operation, \n",
    "                     feed_dict={x: batch_x, y: batch_y,\n",
    "                               keep_prob: .5})\n",
    "            if j % 100 == 0:  # Record summaries and test-set accuracy\n",
    "                summary = sess.run(merged,\n",
    "                                        feed_dict={x: X_valid,\n",
    "                                                   y: y_valid,\n",
    "                                       keep_prob: 1.})\n",
    "                test_writer.add_summary(summary, i)\n",
    "                #print('Accuracy at step %s: %s' % (i, acc))\n",
    "           \n",
    "\n",
    "        print(\"EPOCH {} ...\".format(i+1))\n",
    "        \n",
    "        a,b = log_accuracy(verbose=True)\n",
    "        train_accs[i] = a\n",
    "        valid_accs[i] = b\n",
    "        \n",
    "    saver.save(sess, './lenet_dropout_refactor')\n",
    "    print(\"Model saved\")"
   ]
  },
  {
   "cell_type": "code",
   "execution_count": 77,
   "metadata": {
    "collapsed": true
   },
   "outputs": [],
   "source": [
    "import sys\n",
    "sys.path= ['.'] + sys.path\n",
    "from utils.lenet_udacity import get_n_params\n",
    "%load_ext autoreload\n",
    "%autoreload 2"
   ]
  },
  {
   "cell_type": "code",
   "execution_count": 79,
   "metadata": {},
   "outputs": [],
   "source": [
    "with tf.Session() as sess:\n",
    "    saver.restore(sess, './lenet_dropout_refactor')\n",
    "    params = get_n_params()"
   ]
  },
  {
   "cell_type": "code",
   "execution_count": 81,
   "metadata": {},
   "outputs": [],
   "source": [
    "sess = tf.Session()"
   ]
  },
  {
   "cell_type": "code",
   "execution_count": 82,
   "metadata": {
    "collapsed": true
   },
   "outputs": [],
   "source": [
    "saver.restore(sess, './lenet_dropout_refactor')"
   ]
  },
  {
   "cell_type": "code",
   "execution_count": 83,
   "metadata": {
    "collapsed": true
   },
   "outputs": [],
   "source": [
    "v = tf.trainable_variables()"
   ]
  },
  {
   "cell_type": "code",
   "execution_count": 88,
   "metadata": {},
   "outputs": [
    {
     "data": {
      "text/plain": [
       "TensorShape([Dimension(5), Dimension(5), Dimension(3), Dimension(6)])"
      ]
     },
     "execution_count": 88,
     "metadata": {},
     "output_type": "execute_result"
    }
   ],
   "source": [
    "v[0].get_shape()"
   ]
  },
  {
   "cell_type": "code",
   "execution_count": 89,
   "metadata": {
    "collapsed": true
   },
   "outputs": [],
   "source": [
    "shapes = {i: x.get_shape() for i, x in enumerate(v)}"
   ]
  },
  {
   "cell_type": "code",
   "execution_count": 90,
   "metadata": {},
   "outputs": [
    {
     "data": {
      "text/plain": [
       "{0: TensorShape([Dimension(5), Dimension(5), Dimension(3), Dimension(6)]),\n",
       " 1: TensorShape([Dimension(6)]),\n",
       " 2: TensorShape([Dimension(5), Dimension(5), Dimension(6), Dimension(16)]),\n",
       " 3: TensorShape([Dimension(16)]),\n",
       " 4: TensorShape([Dimension(5), Dimension(5), Dimension(3), Dimension(6)]),\n",
       " 5: TensorShape([Dimension(6)]),\n",
       " 6: TensorShape([Dimension(5), Dimension(5), Dimension(6), Dimension(16)]),\n",
       " 7: TensorShape([Dimension(16)]),\n",
       " 8: TensorShape([Dimension(5), Dimension(5), Dimension(3), Dimension(6)]),\n",
       " 9: TensorShape([Dimension(6)]),\n",
       " 10: TensorShape([Dimension(5), Dimension(5), Dimension(6), Dimension(16)]),\n",
       " 11: TensorShape([Dimension(16)]),\n",
       " 12: TensorShape([Dimension(5), Dimension(5), Dimension(3), Dimension(6)]),\n",
       " 13: TensorShape([Dimension(6)]),\n",
       " 14: TensorShape([Dimension(5), Dimension(5), Dimension(6), Dimension(16)]),\n",
       " 15: TensorShape([Dimension(16)]),\n",
       " 16: TensorShape([Dimension(400), Dimension(120)]),\n",
       " 17: TensorShape([Dimension(120)]),\n",
       " 18: TensorShape([Dimension(120), Dimension(84)]),\n",
       " 19: TensorShape([Dimension(84)]),\n",
       " 20: TensorShape([Dimension(5), Dimension(5), Dimension(3), Dimension(6)]),\n",
       " 21: TensorShape([Dimension(6)]),\n",
       " 22: TensorShape([Dimension(5), Dimension(5), Dimension(6), Dimension(16)]),\n",
       " 23: TensorShape([Dimension(16)]),\n",
       " 24: TensorShape([Dimension(400), Dimension(120)]),\n",
       " 25: TensorShape([Dimension(120)]),\n",
       " 26: TensorShape([Dimension(120), Dimension(84)]),\n",
       " 27: TensorShape([Dimension(84)]),\n",
       " 28: TensorShape([Dimension(5), Dimension(5), Dimension(3), Dimension(6)]),\n",
       " 29: TensorShape([Dimension(6)]),\n",
       " 30: TensorShape([Dimension(5), Dimension(5), Dimension(3), Dimension(6)]),\n",
       " 31: TensorShape([Dimension(6)]),\n",
       " 32: TensorShape([Dimension(5), Dimension(5), Dimension(6), Dimension(16)]),\n",
       " 33: TensorShape([Dimension(16)]),\n",
       " 34: TensorShape([Dimension(400), Dimension(120)]),\n",
       " 35: TensorShape([Dimension(120)]),\n",
       " 36: TensorShape([Dimension(120), Dimension(84)]),\n",
       " 37: TensorShape([Dimension(84)]),\n",
       " 38: TensorShape([Dimension(5), Dimension(5), Dimension(3), Dimension(6)]),\n",
       " 39: TensorShape([Dimension(6)]),\n",
       " 40: TensorShape([Dimension(5), Dimension(5), Dimension(6), Dimension(16)]),\n",
       " 41: TensorShape([Dimension(16)]),\n",
       " 42: TensorShape([Dimension(400), Dimension(120)]),\n",
       " 43: TensorShape([Dimension(120)]),\n",
       " 44: TensorShape([Dimension(5), Dimension(5), Dimension(3), Dimension(6)]),\n",
       " 45: TensorShape([Dimension(6)]),\n",
       " 46: TensorShape([Dimension(5), Dimension(5), Dimension(6), Dimension(16)]),\n",
       " 47: TensorShape([Dimension(16)]),\n",
       " 48: TensorShape([Dimension(400), Dimension(120)]),\n",
       " 49: TensorShape([Dimension(120)]),\n",
       " 50: TensorShape([Dimension(5), Dimension(5), Dimension(3), Dimension(6)]),\n",
       " 51: TensorShape([Dimension(6)]),\n",
       " 52: TensorShape([Dimension(5), Dimension(5), Dimension(6), Dimension(16)]),\n",
       " 53: TensorShape([Dimension(16)]),\n",
       " 54: TensorShape([Dimension(400), Dimension(120)]),\n",
       " 55: TensorShape([Dimension(120)]),\n",
       " 56: TensorShape([Dimension(5), Dimension(5), Dimension(3), Dimension(6)]),\n",
       " 57: TensorShape([Dimension(6)]),\n",
       " 58: TensorShape([Dimension(5), Dimension(5), Dimension(6), Dimension(16)]),\n",
       " 59: TensorShape([Dimension(16)]),\n",
       " 60: TensorShape([Dimension(5), Dimension(5), Dimension(3), Dimension(6)]),\n",
       " 61: TensorShape([Dimension(6)]),\n",
       " 62: TensorShape([Dimension(5), Dimension(5), Dimension(6), Dimension(16)]),\n",
       " 63: TensorShape([Dimension(16)]),\n",
       " 64: TensorShape([Dimension(400), Dimension(120)]),\n",
       " 65: TensorShape([Dimension(120)]),\n",
       " 66: TensorShape([Dimension(120), Dimension(84)]),\n",
       " 67: TensorShape([Dimension(84)]),\n",
       " 68: TensorShape([Dimension(84), Dimension(43)]),\n",
       " 69: TensorShape([Dimension(43)]),\n",
       " 70: TensorShape([Dimension(5), Dimension(5), Dimension(3), Dimension(6)]),\n",
       " 71: TensorShape([Dimension(6)]),\n",
       " 72: TensorShape([Dimension(5), Dimension(5), Dimension(6), Dimension(16)]),\n",
       " 73: TensorShape([Dimension(16)]),\n",
       " 74: TensorShape([Dimension(400), Dimension(120)]),\n",
       " 75: TensorShape([Dimension(120)]),\n",
       " 76: TensorShape([Dimension(120), Dimension(84)]),\n",
       " 77: TensorShape([Dimension(84)]),\n",
       " 78: TensorShape([Dimension(84), Dimension(43)]),\n",
       " 79: TensorShape([Dimension(43)])}"
      ]
     },
     "execution_count": 90,
     "metadata": {},
     "output_type": "execute_result"
    }
   ],
   "source": [
    "shapes"
   ]
  },
  {
   "cell_type": "code",
   "execution_count": 67,
   "metadata": {
    "collapsed": true
   },
   "outputs": [],
   "source": [
    "with tf.Session() as sess:\n",
    "    saver.restore(sess, './lenet_dropout_refactor')\n",
    "    validation_accuracy = evaluate(X_valid, y_valid)\n",
    "    train_accuracy = evaluate(X_train, y_train)\n",
    "    test_accuracy = evaluate(X_test_normalized, y_test)"
   ]
  },
  {
   "cell_type": "code",
   "execution_count": 68,
   "metadata": {},
   "outputs": [
    {
     "data": {
      "text/plain": [
       "(0.97235551935259124, 0.90884353465774437, 0.91733966442864756)"
      ]
     },
     "execution_count": 68,
     "metadata": {},
     "output_type": "execute_result"
    }
   ],
   "source": [
    "train_accuracy, validation_accuracy, test_accuracy"
   ]
  },
  {
   "cell_type": "markdown",
   "metadata": {},
   "source": [
    "---\n",
    "\n",
    "## Step 3: Test a Model on New Images\n",
    "\n",
    "To give yourself more insight into how your model is working, download at least five pictures of German traffic signs from the web and use your model to predict the traffic sign type.\n",
    "\n",
    "You may find `signnames.csv` useful as it contains mappings from the class id (integer) to the actual sign name."
   ]
  },
  {
   "cell_type": "markdown",
   "metadata": {},
   "source": [
    "### Load and Output the Images"
   ]
  },
  {
   "cell_type": "code",
   "execution_count": 427,
   "metadata": {
    "collapsed": true
   },
   "outputs": [],
   "source": [
    "!mv /Users/shleifer/Downloads/traffic\\ signs ."
   ]
  },
  {
   "cell_type": "code",
   "execution_count": 429,
   "metadata": {
    "collapsed": true
   },
   "outputs": [],
   "source": [
    "mv traffic\\ signs real_signs"
   ]
  },
  {
   "cell_type": "code",
   "execution_count": 446,
   "metadata": {
    "collapsed": true
   },
   "outputs": [],
   "source": [
    "import glob\n",
    "files = glob.glob('/Users/shleifer/Downloads/TrafficSignsRuDe/Germany/*jpg')"
   ]
  },
  {
   "cell_type": "code",
   "execution_count": 474,
   "metadata": {
    "collapsed": true
   },
   "outputs": [],
   "source": [
    "import cv2 \n",
    "\n",
    "import os\n",
    "import matplotlib.image as mpimg\n",
    "i = 0\n",
    "\n"
   ]
  },
  {
   "cell_type": "code",
   "execution_count": 511,
   "metadata": {},
   "outputs": [
    {
     "name": "stdout",
     "output_type": "stream",
     "text": [
      "3391/37:\n",
      "def get_label_image(c): \n",
      "    img=cv2.imread(DATA_DIR+'/signnames_all.jpg',1)\n",
      "    img = cv2.cvtColor(img, cv2.COLOR_BGR2RGB)\n",
      "    H, W, _ = img.shape\n",
      "    dH = H/7.\n",
      "    dW = W/7.105\n",
      "    y = c//7\n",
      "    x = c%7 \n",
      "    label_image = img[round(y*dH):round(y*dH+dH), round(x*dW):round(x*dW+dW),:]\n",
      "    label_image = cv2.resize(label_image, (0,0), fx=32./dW, fy=32./dH,)\n",
      "    return label_image\n",
      "\n",
      "\n",
      "def insert_subimage(image, sub_image, y, x): \n",
      "    h, w, c = sub_image.shape\n",
      "    image[y:y+h, x:x+w, :]=sub_image \n",
      "    return image\n",
      "3391/38:\n",
      "train_images, train_labels = X_train, y_train\n",
      " \n",
      "#count\n",
      "#h = np.histogram(train_labels, bins=np.arange(num_class))\n",
      "\n",
      "#results image\n",
      "num_sample=10\n",
      "results_image = 255.*np.ones(shape=(num_class*height,(num_sample+2+22)*width, channel),dtype=np.float32)\n",
      "for c in range(num_class):\n",
      "    label_image = get_label_image(c)\n",
      "    insert_subimage(results_image, label_image, c*height, 0)\n",
      "\n",
      "    #make mean\n",
      "    idx = list(np.where(train_labels== c)[0])\n",
      "    mean_image = np.average(train_images[idx], axis=0)\n",
      "    insert_subimage(results_image, mean_image, c*height, width)\n",
      "\n",
      "    # imshow('mean_image',mean_image)\n",
      "    # imshow('label_image',label_image)\n",
      "    # cv2.waitKey(0)\n",
      "\n",
      "    #make random sample\n",
      "    for n in range(num_sample):\n",
      "        sample_image = train_images[np.random.choice(idx)]\n",
      "        insert_subimage(results_image, sample_image, c*height, (2+n)*width)\n",
      "\n",
      "    #print summary\n",
      "    count=len(idx)\n",
      "    percentage = float(count)/float(len(train_images))\n",
      "    cv2.putText(results_image, '%02d:%-6s'%(c, classnames[c]), ((2+num_sample)*width, int((c+0.7)*height)),cv2.FONT_HERSHEY_SIMPLEX,0.5,(0,0,0),1)\n",
      "    cv2.putText(results_image, '[%4d]'%(count), ((2+num_sample+14)*width, int((c+0.7)*height)),cv2.FONT_HERSHEY_SIMPLEX,0.5,(0,0,255),1)\n",
      "    cv2.rectangle(results_image,((2+num_sample+16)*width, c*height),((2+num_sample+16)*width + round(percentage*3000), (c+1)*height),(0,0,255),-1)\n",
      "\n",
      " \n",
      "cv2.imwrite(DATA_DIR+'/data_summary.jpg',cv2.cvtColor(results_image, cv2.COLOR_BGR2RGB))\n",
      "#imshow('results_image',results_image)\n",
      "#cv2.waitKey(0)\n",
      "\n",
      "\n",
      "print('** training data summary **')\n",
      "print('\\t1st column: label(image)')\n",
      "print('\\t2nd column: mean image')\n",
      "print('\\tother column: example images')\n",
      "print('\\tblack text: label')\n",
      "print('\\tblue text: sanple count for each class and histogram plot')\n",
      "plt.rcParams[\"figure.figsize\"] = (25,25)\n",
      "plt.imshow(results_image.astype(np.uint8))\n",
      "plt.axis('off') \n",
      "plt.show()\n",
      "3391/40:\n",
      "train_images, train_labels = X_train, y_train\n",
      " \n",
      "#count\n",
      "#h = np.histogram(train_labels, bins=np.arange(num_class))\n",
      "\n",
      "#results image\n",
      "num_sample=10\n",
      "results_image = 255.*np.ones(shape=(num_class*height,(num_sample+2+22)*width, channel),dtype=np.float32)\n",
      "for c in range(num_class):\n",
      "    label_image = get_label_image(c)\n",
      "    insert_subimage(results_image, label_image, c*height, 0)\n",
      "\n",
      "    #make mean\n",
      "    idx = list(np.where(train_labels== c)[0])\n",
      "    mean_image = np.average(train_images[idx], axis=0)\n",
      "    insert_subimage(results_image, mean_image, c*height, width)\n",
      "\n",
      "    # imshow('mean_image',mean_image)\n",
      "    # imshow('label_image',label_image)\n",
      "    # cv2.waitKey(0)\n",
      "\n",
      "    #make random sample\n",
      "    for n in range(num_sample):\n",
      "        sample_image = train_images[np.random.choice(idx)]\n",
      "        insert_subimage(results_image, sample_image, c*height, (2+n)*width)\n",
      "\n",
      "    #print summary\n",
      "    count=len(idx)\n",
      "    percentage = float(count)/float(len(train_images))\n",
      "    cv2.putText(results_image, '%02d:%-6s'%(c, classnames[c]), ((2+num_sample)*width, int((c+0.7)*height)),cv2.FONT_HERSHEY_SIMPLEX,0.5,(0,0,0),1)\n",
      "    cv2.putText(results_image, '[%4d]'%(count), ((2+num_sample+14)*width, int((c+0.7)*height)),cv2.FONT_HERSHEY_SIMPLEX,0.5,(0,0,255),1)\n",
      "    cv2.rectangle(results_image,((2+num_sample+16)*width, c*height),((2+num_sample+16)*width + round(percentage*3000), (c+1)*height),(0,0,255),-1)\n",
      "\n",
      " \n",
      "cv2.imwrite(DATA_DIR+'/data_summary.jpg',cv2.cvtColor(results_image, cv2.COLOR_BGR2RGB))\n",
      "#imshow('results_image',results_image)\n",
      "#cv2.waitKey(0)\n",
      "\n",
      "\n",
      "print('** training data summary **')\n",
      "print('\\t1st column: label(image)')\n",
      "print('\\t2nd column: mean image')\n",
      "print('\\tother column: example images')\n",
      "print('\\tblack text: label')\n",
      "print('\\tblue text: sanple count for each class and histogram plot')\n",
      "plt.rcParams[\"figure.figsize\"] = (25,25)\n",
      "plt.imshow(results_image.astype(np.uint8))\n",
      "plt.axis('off') \n",
      "plt.show()\n",
      "3391/41:\n",
      "train_images, train_labels = X_train, y_train\n",
      " \n",
      "#count\n",
      "#h = np.histogram(train_labels, bins=np.arange(num_class))\n",
      "\n",
      "#results image\n",
      "num_sample=10\n",
      "results_image = 255.*np.ones(shape=(num_classes*height,(num_sample+2+22)*width, channel),dtype=np.float32)\n",
      "for c in range(num_class):\n",
      "    label_image = get_label_image(c)\n",
      "    insert_subimage(results_image, label_image, c*height, 0)\n",
      "\n",
      "    #make mean\n",
      "    idx = list(np.where(train_labels== c)[0])\n",
      "    mean_image = np.average(train_images[idx], axis=0)\n",
      "    insert_subimage(results_image, mean_image, c*height, width)\n",
      "\n",
      "    # imshow('mean_image',mean_image)\n",
      "    # imshow('label_image',label_image)\n",
      "    # cv2.waitKey(0)\n",
      "\n",
      "    #make random sample\n",
      "    for n in range(num_sample):\n",
      "        sample_image = train_images[np.random.choice(idx)]\n",
      "        insert_subimage(results_image, sample_image, c*height, (2+n)*width)\n",
      "\n",
      "    #print summary\n",
      "    count=len(idx)\n",
      "    percentage = float(count)/float(len(train_images))\n",
      "    cv2.putText(results_image, '%02d:%-6s'%(c, classnames[c]), ((2+num_sample)*width, int((c+0.7)*height)),cv2.FONT_HERSHEY_SIMPLEX,0.5,(0,0,0),1)\n",
      "    cv2.putText(results_image, '[%4d]'%(count), ((2+num_sample+14)*width, int((c+0.7)*height)),cv2.FONT_HERSHEY_SIMPLEX,0.5,(0,0,255),1)\n",
      "    cv2.rectangle(results_image,((2+num_sample+16)*width, c*height),((2+num_sample+16)*width + round(percentage*3000), (c+1)*height),(0,0,255),-1)\n",
      "\n",
      " \n",
      "cv2.imwrite(DATA_DIR+'/data_summary.jpg',cv2.cvtColor(results_image, cv2.COLOR_BGR2RGB))\n",
      "#imshow('results_image',results_image)\n",
      "#cv2.waitKey(0)\n",
      "\n",
      "\n",
      "print('** training data summary **')\n",
      "print('\\t1st column: label(image)')\n",
      "print('\\t2nd column: mean image')\n",
      "print('\\tother column: example images')\n",
      "print('\\tblack text: label')\n",
      "print('\\tblue text: sanple count for each class and histogram plot')\n",
      "plt.rcParams[\"figure.figsize\"] = (25,25)\n",
      "plt.imshow(results_image.astype(np.uint8))\n",
      "plt.axis('off') \n",
      "plt.show()\n",
      "3391/42:\n",
      "train_images, train_labels = X_train, y_train\n",
      " \n",
      "#count\n",
      "#h = np.histogram(train_labels, bins=np.arange(num_class))\n",
      "\n",
      "#results image\n",
      "num_sample=10\n",
      "results_image = 255.*np.ones(shape=(n_classes*height,(num_sample+2+22)*width, channel),dtype=np.float32)\n",
      "for c in range(num_class):\n",
      "    label_image = get_label_image(c)\n",
      "    insert_subimage(results_image, label_image, c*height, 0)\n",
      "\n",
      "    #make mean\n",
      "    idx = list(np.where(train_labels== c)[0])\n",
      "    mean_image = np.average(train_images[idx], axis=0)\n",
      "    insert_subimage(results_image, mean_image, c*height, width)\n",
      "\n",
      "    # imshow('mean_image',mean_image)\n",
      "    # imshow('label_image',label_image)\n",
      "    # cv2.waitKey(0)\n",
      "\n",
      "    #make random sample\n",
      "    for n in range(num_sample):\n",
      "        sample_image = train_images[np.random.choice(idx)]\n",
      "        insert_subimage(results_image, sample_image, c*height, (2+n)*width)\n",
      "\n",
      "    #print summary\n",
      "    count=len(idx)\n",
      "    percentage = float(count)/float(len(train_images))\n",
      "    cv2.putText(results_image, '%02d:%-6s'%(c, classnames[c]), ((2+num_sample)*width, int((c+0.7)*height)),cv2.FONT_HERSHEY_SIMPLEX,0.5,(0,0,0),1)\n",
      "    cv2.putText(results_image, '[%4d]'%(count), ((2+num_sample+14)*width, int((c+0.7)*height)),cv2.FONT_HERSHEY_SIMPLEX,0.5,(0,0,255),1)\n",
      "    cv2.rectangle(results_image,((2+num_sample+16)*width, c*height),((2+num_sample+16)*width + round(percentage*3000), (c+1)*height),(0,0,255),-1)\n",
      "\n",
      " \n",
      "cv2.imwrite(DATA_DIR+'/data_summary.jpg',cv2.cvtColor(results_image, cv2.COLOR_BGR2RGB))\n",
      "#imshow('results_image',results_image)\n",
      "#cv2.waitKey(0)\n",
      "\n",
      "\n",
      "print('** training data summary **')\n",
      "print('\\t1st column: label(image)')\n",
      "print('\\t2nd column: mean image')\n",
      "print('\\tother column: example images')\n",
      "print('\\tblack text: label')\n",
      "print('\\tblue text: sanple count for each class and histogram plot')\n",
      "plt.rcParams[\"figure.figsize\"] = (25,25)\n",
      "plt.imshow(results_image.astype(np.uint8))\n",
      "plt.axis('off') \n",
      "plt.show()\n",
      "3391/43:\n",
      "train_images, train_labels = X_train, y_train\n",
      " \n",
      "#count\n",
      "#h = np.histogram(train_labels, bins=np.arange(n_classes))\n",
      "\n",
      "#results image\n",
      "num_sample=10\n",
      "results_image = 255.*np.ones(shape=(n_classes*height, (num_sample+2+22)*width, channel), dtype=np.float32)\n",
      "for c in range(n_classes):\n",
      "    label_image = get_label_image(c)\n",
      "    insert_subimage(results_image, label_image, c*height, 0)\n",
      "\n",
      "    #make mean\n",
      "    idx = list(np.where(train_labels== c)[0])\n",
      "    mean_image = np.average(train_images[idx], axis=0)\n",
      "    insert_subimage(results_image, mean_image, c*height, width)\n",
      "\n",
      "    # imshow('mean_image',mean_image)\n",
      "    # imshow('label_image',label_image)\n",
      "    # cv2.waitKey(0)\n",
      "\n",
      "    #make random sample\n",
      "    for n in range(num_sample):\n",
      "        sample_image = train_images[np.random.choice(idx)]\n",
      "        insert_subimage(results_image, sample_image, c*height, (2+n)*width)\n",
      "\n",
      "    #print summary\n",
      "    count=len(idx)\n",
      "    percentage = float(count)/float(len(train_images))\n",
      "    cv2.putText(results_image, '%02d:%-6s'%(c, classnames[c]), ((2+num_sample)*width, int((c+0.7)*height)),cv2.FONT_HERSHEY_SIMPLEX,0.5,(0,0,0),1)\n",
      "    cv2.putText(results_image, '[%4d]'%(count), ((2+num_sample+14)*width, int((c+0.7)*height)),cv2.FONT_HERSHEY_SIMPLEX,0.5,(0,0,255),1)\n",
      "    cv2.rectangle(results_image,((2+num_sample+16)*width, c*height),((2+num_sample+16)*width + round(percentage*3000), (c+1)*height),(0,0,255),-1)\n",
      "\n",
      " \n",
      "cv2.imwrite(DATA_DIR+'/data_summary.jpg',cv2.cvtColor(results_image, cv2.COLOR_BGR2RGB))\n",
      "#imshow('results_image',results_image)\n",
      "#cv2.waitKey(0)\n",
      "\n",
      "\n",
      "print('** training data summary **')\n",
      "print('\\t1st column: label(image)')\n",
      "print('\\t2nd column: mean image')\n",
      "print('\\tother column: example images')\n",
      "print('\\tblack text: label')\n",
      "print('\\tblue text: sanple count for each class and histogram plot')\n",
      "plt.rcParams[\"figure.figsize\"] = (25,25)\n",
      "plt.imshow(results_image.astype(np.uint8))\n",
      "plt.axis('off') \n",
      "plt.show()\n",
      "3391/44:\n",
      "train_images, train_labels = X_train, y_train\n",
      " \n",
      "#count\n",
      "#h = np.histogram(train_labels, bins=np.arange(n_classes))\n",
      "\n",
      "#results image\n",
      "num_sample=10\n",
      "results_image = 255.*np.ones(shape=(n_classes*height, (num_sample+2+22)*width, channel), dtype=np.float32)\n",
      "for c in range(n_classes):\n",
      "    label_image = get_label_image(c)\n",
      "    insert_subimage(results_image, label_image, c*height, 0)\n",
      "\n",
      "    #make mean\n",
      "    idx = list(np.where(train_labels== c)[0])\n",
      "    mean_image = np.average(train_images[idx], axis=0)\n",
      "    insert_subimage(results_image, mean_image, c*height, width)\n",
      "\n",
      "    # imshow('mean_image',mean_image)\n",
      "    # imshow('label_image',label_image)\n",
      "    # cv2.waitKey(0)\n",
      "\n",
      "    #make random sample\n",
      "    for n in range(num_sample):\n",
      "        sample_image = train_images[np.random.choice(idx)]\n",
      "        insert_subimage(results_image, sample_image, c*height, (2+n)*width)\n",
      "\n",
      "    #print summary\n",
      "    count=len(idx)\n",
      "    percentage = float(count)/float(len(train_images))\n",
      "    cv2.putText(results_image, '%02d:%-6s'%(c, classnames[c]), ((2+num_sample)*width, int((c+0.7)*height)),cv2.FONT_HERSHEY_SIMPLEX,0.5,(0,0,0),1)\n",
      "    cv2.putText(results_image, '[%4d]'%(count), ((2+num_sample+14)*width, int((c+0.7)*height)),cv2.FONT_HERSHEY_SIMPLEX,0.5,(0,0,255),1)\n",
      "    cv2.rectangle(results_image,((2+num_sample+16)*width, c*height),((2+num_sample+16)*width + round(percentage*3000), (c+1)*height),(0,0,255),-1)\n",
      "\n",
      " \n",
      "cv2.imwrite(DATA_DIR+'/data_summary.jpg',cv2.cvtColor(results_image, cv2.COLOR_BGR2RGB))\n",
      "#imshow('results_image',results_image)\n",
      "#cv2.waitKey(0)\n",
      "\n",
      "\n",
      "print('** training data summary **')\n",
      "print('\\t1st column: label(image)')\n",
      "print('\\t2nd column: mean image')\n",
      "print('\\tother column: example images')\n",
      "print('\\tblack text: label')\n",
      "print('\\tblue text: sanple count for each class and histogram plot')\n",
      "plt.rcParams[\"figure.figsize\"] = (25,25)\n",
      "plt.imshow(results_image.astype(np.uint8))\n",
      "plt.axis('off') \n",
      "plt.show()\n",
      "3391/47:\n",
      "def get_label_image(c): \n",
      "    img=cv2.imread(DATA_DIR+'/signnames_all.jpg',1)\n",
      "    img = cv2.cvtColor(img, cv2.COLOR_BGR2RGB)\n",
      "    H, W, _ = img.shape\n",
      "    dH = H/7.\n",
      "    dW = W/7.105\n",
      "    y = c//7\n",
      "    x = c%7 \n",
      "    label_image = img[round(y*dH):round(y*dH+dH), round(x*dW):round(x*dW+dW),:]\n",
      "    label_image = cv2.resize(label_image, (0,0), fx=32./dW, fy=32./dH,)\n",
      "    return label_image\n",
      "\n",
      "\n",
      "def insert_subimage(image, sub_image, y, x): \n",
      "    h, w, c = sub_image.shape\n",
      "    image[y:y+h, x:x+w, :]=sub_image \n",
      "    return image\n",
      "3391/50:\n",
      "train_images, train_labels = X_train, y_train\n",
      " \n",
      "#count\n",
      "#h = np.histogram(train_labels, bins=np.arange(n_classes))\n",
      "\n",
      "#results image\n",
      "num_sample=10\n",
      "results_image = 255.*np.ones(shape=(n_classes*height, (num_sample+2+22)*width, channel), dtype=np.float32)\n",
      "for c in range(n_classes):\n",
      "    label_image = get_label_image(c)\n",
      "    insert_subimage(results_image, label_image, c*height, 0)\n",
      "\n",
      "    #make mean\n",
      "    idx = list(np.where(train_labels== c)[0])\n",
      "    mean_image = np.average(train_images[idx], axis=0)\n",
      "    insert_subimage(results_image, mean_image, c*height, width)\n",
      "\n",
      "    # imshow('mean_image',mean_image)\n",
      "    # imshow('label_image',label_image)\n",
      "    # cv2.waitKey(0)\n",
      "\n",
      "    #make random sample\n",
      "    for n in range(num_sample):\n",
      "        sample_image = train_images[np.random.choice(idx)]\n",
      "        insert_subimage(results_image, sample_image, c*height, (2+n)*width)\n",
      "\n",
      "    #print summary\n",
      "    count=len(idx)\n",
      "    percentage = float(count)/float(len(train_images))\n",
      "    cv2.putText(results_image, '%02d:%-6s'%(c, classnames[c]), ((2+num_sample)*width, int((c+0.7)*height)),cv2.FONT_HERSHEY_SIMPLEX,0.5,(0,0,0),1)\n",
      "    cv2.putText(results_image, '[%4d]'%(count), ((2+num_sample+14)*width, int((c+0.7)*height)),cv2.FONT_HERSHEY_SIMPLEX,0.5,(0,0,255),1)\n",
      "    cv2.rectangle(results_image,((2+num_sample+16)*width, c*height),((2+num_sample+16)*width + round(percentage*3000), (c+1)*height),(0,0,255),-1)\n",
      "\n",
      " \n",
      "cv2.imwrite(DATA_DIR+'/data_summary.jpg',cv2.cvtColor(results_image, cv2.COLOR_BGR2RGB))\n",
      "#imshow('results_image',results_image)\n",
      "#cv2.waitKey(0)\n",
      "\n",
      "\n",
      "print('** training data summary **')\n",
      "print('\\t1st column: label(image)')\n",
      "print('\\t2nd column: mean image')\n",
      "print('\\tother column: example images')\n",
      "print('\\tblack text: label')\n",
      "print('\\tblue text: sanple count for each class and histogram plot')\n",
      "plt.rcParams[\"figure.figsize\"] = (25,25)\n",
      "plt.imshow(results_image.astype(np.uint8))\n",
      "plt.axis('off') \n",
      "plt.show()\n",
      "3391/54:\n",
      "train_images, train_labels = X_train, y_train\n",
      " \n",
      "#count\n",
      "#h = np.histogram(train_labels, bins=np.arange(n_classes))\n",
      "\n",
      "#results image\n",
      "num_sample=10\n",
      "results_image = 255.*np.ones(shape=(n_classes*height, (num_sample+2+22)*width, channel), dtype=np.float32)\n",
      "for c in range(n_classes):\n",
      "    label_image = get_label_image(c)\n",
      "    insert_subimage(results_image, label_image, c*height, 0)\n",
      "\n",
      "    #make mean\n",
      "    idx = list(np.where(train_labels== c)[0])\n",
      "    mean_image = np.average(train_images[idx], axis=0)\n",
      "    insert_subimage(results_image, mean_image, c*height, width)\n",
      "\n",
      "    # imshow('mean_image',mean_image)\n",
      "    # imshow('label_image',label_image)\n",
      "    # cv2.waitKey(0)\n",
      "\n",
      "    #make random sample\n",
      "    for n in range(num_sample):\n",
      "        sample_image = train_images[np.random.choice(idx)]\n",
      "        insert_subimage(results_image, sample_image, c*height, (2+n)*width)\n",
      "\n",
      "    #print summary\n",
      "    count=len(idx)\n",
      "    percentage = float(count)/float(len(train_images))\n",
      "    cv2.putText(results_image, '%02d:%-6s'%(c, classnames[c]), ((2+num_sample)*width, int((c+0.7)*height)),cv2.FONT_HERSHEY_SIMPLEX,0.5,(0,0,0),1)\n",
      "    cv2.putText(results_image, '[%4d]'%(count), ((2+num_sample+14)*width, int((c+0.7)*height)),cv2.FONT_HERSHEY_SIMPLEX,0.5,(0,0,255),1)\n",
      "    cv2.rectangle(results_image,((2+num_sample+16)*width, c*height),((2+num_sample+16)*width + round(percentage*3000), (c+1)*height),(0,0,255),-1)\n",
      "\n",
      " \n",
      "cv2.imwrite(DATA_DIR+'/data_summary.jpg',cv2.cvtColor(results_image, cv2.COLOR_BGR2RGB))\n",
      "#imshow('results_image',results_image)\n",
      "#cv2.waitKey(0)\n",
      "\n",
      "\n",
      "print('** training data summary **')\n",
      "print('\\t1st column: label(image)')\n",
      "print('\\t2nd column: mean image')\n",
      "print('\\tother column: example images')\n",
      "print('\\tblack text: label')\n",
      "print('\\tblue text: sanple count for each class and histogram plot')\n",
      "plt.rcParams[\"figure.figsize\"] = (25,25)\n",
      "plt.imshow(results_image.astype(np.uint8))\n",
      "plt.axis('off') \n",
      "plt.show()\n",
      "3391/79:\n",
      "train_images, train_labels = X_train, y_train\n",
      " \n",
      "#count\n",
      "#h = np.histogram(train_labels, bins=np.arange(n_classes))\n",
      "\n",
      "#results image\n",
      "num_sample=10\n",
      "results_image = 255.*np.ones(shape=(n_classes*height, (num_sample+2+22)*width, channel), dtype=np.float32)\n",
      "for c in range(n_classes):\n",
      "    label_image = get_label_image(c)\n",
      "    insert_subimage(results_image, label_image, c*height, 0)\n",
      "\n",
      "    #make mean\n",
      "    idx = list(np.where(train_labels== c)[0])\n",
      "    mean_image = np.average(train_images[idx], axis=0)\n",
      "    insert_subimage(results_image, mean_image, c*height, width)\n",
      "\n",
      "    # imshow('mean_image',mean_image)\n",
      "    # imshow('label_image',label_image)\n",
      "    # cv2.waitKey(0)\n",
      "\n",
      "    #make random sample\n",
      "    for n in range(num_sample):\n",
      "        sample_image = train_images[np.random.choice(idx)]\n",
      "        insert_subimage(results_image, sample_image, c*height, (2+n)*width)\n",
      "\n",
      "    #print summary\n",
      "    count=len(idx)\n",
      "    percentage = float(count)/float(len(train_images))\n",
      "    cv2.putText(results_image, '%02d:%-6s'%(c, classnames[c]), ((2+num_sample)*width, int((c+0.7)*height)),cv2.FONT_HERSHEY_SIMPLEX,0.5,(0,0,0),1)\n",
      "    cv2.putText(results_image, '[%4d]'%(count), ((2+num_sample+14)*width, int((c+0.7)*height)),cv2.FONT_HERSHEY_SIMPLEX,0.5,(0,0,255),1)\n",
      "    cv2.rectangle(results_image,((2+num_sample+16)*width, c*height),((2+num_sample+16)*width + round(percentage*3000), (c+1)*height),(0,0,255),-1)\n",
      "\n",
      " \n",
      "cv2.imwrite(DATA_DIR+'/data_summary.jpg',cv2.cvtColor(results_image, cv2.COLOR_BGR2RGB))\n",
      "#imshow('results_image',results_image)\n",
      "#cv2.waitKey(0)\n",
      "\n",
      "\n",
      "print('** training data summary **')\n",
      "print('\\t1st column: label(image)')\n",
      "print('\\t2nd column: mean image')\n",
      "print('\\tother column: example images')\n",
      "print('\\tblack text: label')\n",
      "print('\\tblue text: sanple count for each class and histogram plot')\n",
      "plt.rcParams[\"figure.figsize\"] = (25,25)\n",
      "plt.imshow(results_image.astype(np.uint8))\n",
      "plt.axis('off') \n",
      "plt.show()\n",
      "3391/95:\n",
      "train_images, train_labels = X_train, y_train\n",
      " \n",
      "#count\n",
      "#h = np.histogram(train_labels, bins=np.arange(n_classes))\n",
      "\n",
      "#results image\n",
      "num_sample=10\n",
      "results_image = 255.*np.ones(shape=(n_classes*height, (num_sample+2+22)*width, channel), \n",
      "                             dtype=np.float32)\n",
      "for c in range(n_classes):\n",
      "    #label_image = get_label_image(c)\n",
      "    #insert_subimage(results_image, label_image, c*height, 0)\n",
      "\n",
      "    #make mean\n",
      "    idx = list(np.where(train_labels== c)[0])\n",
      "    mean_image = np.average(train_images[idx], axis=0)\n",
      "    insert_subimage(results_image, mean_image, c*height, width)\n",
      "\n",
      "    # imshow('mean_image',mean_image)\n",
      "    # imshow('label_image',label_image)\n",
      "    # cv2.waitKey(0)\n",
      "\n",
      "    #make random sample\n",
      "    for n in range(num_sample):\n",
      "        sample_image = train_images[np.random.choice(idx)]\n",
      "        insert_subimage(results_image, sample_image, c*height, (2+n)*width)\n",
      "\n",
      "    #print summary\n",
      "    count=len(idx)\n",
      "    percentage = float(count)/float(len(train_images))\n",
      "    cv2.putText(results_image, '%02d:%-6s'%(c, classnames[c]), ((2+num_sample)*width, int((c+0.7)*height)),cv2.FONT_HERSHEY_SIMPLEX,0.5,(0,0,0),1)\n",
      "    cv2.putText(results_image, '[%4d]'%(count), ((2+num_sample+14)*width, int((c+0.7)*height)),cv2.FONT_HERSHEY_SIMPLEX,0.5,(0,0,255),1)\n",
      "    cv2.rectangle(results_image,((2+num_sample+16)*width, c*height),((2+num_sample+16)*width + round(percentage*3000), (c+1)*height),(0,0,255),-1)\n",
      "\n",
      " \n",
      "cv2.imwrite(DATA_DIR+'/data_summary.jpg',cv2.cvtColor(results_image, cv2.COLOR_BGR2RGB))\n",
      "#imshow('results_image',results_image)\n",
      "#cv2.waitKey(0)\n",
      "\n",
      "\n",
      "print('** training data summary **')\n",
      "print('\\t1st column: label(image)')\n",
      "print('\\t2nd column: mean image')\n",
      "print('\\tother column: example images')\n",
      "print('\\tblack text: label')\n",
      "print('\\tblue text: sanple count for each class and histogram plot')\n",
      "plt.rcParams[\"figure.figsize\"] = (25,25)\n",
      "plt.imshow(results_image.astype(np.uint8))\n",
      "plt.axis('off') \n",
      "plt.show()\n",
      "3391/102:\n",
      "def get_label_image(c): \n",
      "    img=cv2.imread(signnames_path,1)\n",
      "    img = cv2.cvtColor(img, cv2.COLOR_BGR2RGB)\n",
      "    H, W, _ = img.shape\n",
      "    dH = H/7.\n",
      "    dW = W/7.105\n",
      "    y = c//7\n",
      "    x = c%7 \n",
      "    label_image = img[round(y*dH):round(y*dH+dH), round(x*dW):round(x*dW+dW),:]\n",
      "    label_image = cv2.resize(label_image, (0,0), fx=32./dW, fy=32./dH,)\n",
      "    return label_image\n",
      "\n",
      "\n",
      "def insert_subimage(image, sub_image, y, x): \n",
      "    h, w, c = sub_image.shape\n",
      "    image[y:y+h, x:x+w, :]=sub_image \n",
      "    return image\n",
      "3391/103:\n",
      "train_images, train_labels = X_train, y_train\n",
      " \n",
      "#count\n",
      "#h = np.histogram(train_labels, bins=np.arange(n_classes))\n",
      "\n",
      "#results image\n",
      "num_sample=10\n",
      "results_image = 255.*np.ones(shape=(n_classes*height, (num_sample+2+22)*width, channel), \n",
      "                             dtype=np.float32)\n",
      "for c in range(n_classes):\n",
      "    label_image = get_label_image(c)\n",
      "    insert_subimage(results_image, label_image, c*height, 0)\n",
      "\n",
      "    #make mean\n",
      "    idx = list(np.where(train_labels== c)[0])\n",
      "    mean_image = np.average(train_images[idx], axis=0)\n",
      "    insert_subimage(results_image, mean_image, c*height, width)\n",
      "\n",
      "    # imshow('mean_image',mean_image)\n",
      "    # imshow('label_image',label_image)\n",
      "    # cv2.waitKey(0)\n",
      "\n",
      "    #make random sample\n",
      "    for n in range(num_sample):\n",
      "        sample_image = train_images[np.random.choice(idx)]\n",
      "        insert_subimage(results_image, sample_image, c*height, (2+n)*width)\n",
      "\n",
      "    #print summary\n",
      "    count=len(idx)\n",
      "    percentage = float(count)/float(len(train_images))\n",
      "    cv2.putText(results_image, '%02d:%-6s'%(c, classnames[c]), ((2+num_sample)*width, int((c+0.7)*height)),cv2.FONT_HERSHEY_SIMPLEX,0.5,(0,0,0),1)\n",
      "    cv2.putText(results_image, '[%4d]'%(count), ((2+num_sample+14)*width, int((c+0.7)*height)),cv2.FONT_HERSHEY_SIMPLEX,0.5,(0,0,255),1)\n",
      "    cv2.rectangle(results_image,((2+num_sample+16)*width, c*height),((2+num_sample+16)*width + round(percentage*3000), (c+1)*height),(0,0,255),-1)\n",
      "\n",
      " \n",
      "cv2.imwrite(DATA_DIR+'/data_summary.jpg',cv2.cvtColor(results_image, cv2.COLOR_BGR2RGB))\n",
      "#imshow('results_image',results_image)\n",
      "#cv2.waitKey(0)\n",
      "\n",
      "\n",
      "print('** training data summary **')\n",
      "print('\\t1st column: label(image)')\n",
      "print('\\t2nd column: mean image')\n",
      "print('\\tother column: example images')\n",
      "print('\\tblack text: label')\n",
      "print('\\tblue text: sanple count for each class and histogram plot')\n",
      "plt.rcParams[\"figure.figsize\"] = (25,25)\n",
      "plt.imshow(results_image.astype(np.uint8))\n",
      "plt.axis('off') \n",
      "plt.show()\n",
      "3391/104:\n",
      "train_images, train_labels = X_train, y_train\n",
      " \n",
      "#count\n",
      "#h = np.histogram(train_labels, bins=np.arange(n_classes))\n",
      "\n",
      "#results image\n",
      "num_sample=10\n",
      "results_image = 255.*np.ones(shape=(n_classes*height, (num_sample+2+22)*width, channel), \n",
      "                             dtype=np.float32)\n",
      "for c in range(n_classes):\n",
      "    label_image = get_label_image(c)\n",
      "    insert_subimage(results_image, label_image, c*height, 0)\n",
      "\n",
      "    #make mean\n",
      "    idx = list(np.where(train_labels== c)[0])\n",
      "    mean_image = np.average(train_images[idx], axis=0)\n",
      "    insert_subimage(results_image, mean_image, c*height, width)\n",
      "\n",
      "    # imshow('mean_image',mean_image)\n",
      "    # imshow('label_image',label_image)\n",
      "    # cv2.waitKey(0)\n",
      "\n",
      "    #make random sample\n",
      "    for n in range(num_sample):\n",
      "        sample_image = train_images[np.random.choice(idx)]\n",
      "        insert_subimage(results_image, sample_image, c*height, (2+n)*width)\n",
      "\n",
      "    #print summary\n",
      "    count=len(idx)\n",
      "    percentage = float(count)/float(len(train_images))\n",
      "    cv2.putText(results_image, '%02d:%-6s'%(c, classnames[c]), ((2+num_sample)*width, int((c+0.7)*height)),cv2.FONT_HERSHEY_SIMPLEX,0.5,(0,0,0),1)\n",
      "    cv2.putText(results_image, '[%4d]'%(count), ((2+num_sample+14)*width, int((c+0.7)*height)),cv2.FONT_HERSHEY_SIMPLEX,0.5,(0,0,255),1)\n",
      "    cv2.rectangle(results_image,((2+num_sample+16)*width, c*height),((2+num_sample+16)*width + round(percentage*3000), (c+1)*height),(0,0,255),-1)\n",
      "\n",
      " \n",
      "    cv2.imwrite(DATA_DIR+'/data_summary.jpg',cv2.cvtColor(results_image, cv2.COLOR_BGR2RGB))\n",
      "    #imshow('results_image',results_image)\n",
      "    #cv2.waitKey(0)\n",
      "\n",
      "\n",
      "print('** training data summary **')\n",
      "print('\\t1st column: label(image)')\n",
      "print('\\t2nd column: mean image')\n",
      "print('\\tother column: example images')\n",
      "print('\\tblack text: label')\n",
      "print('\\tblue text: sanple count for each class and histogram plot')\n",
      "plt.rcParams[\"figure.figsize\"] = (25,25)\n",
      "plt.imshow(results_image.astype(np.uint8))\n",
      "plt.axis('off') \n",
      "plt.show()\n",
      "3391/107:\n",
      "def get_label_image(c): \n",
      "    img=cv2.imread(signnames_path,1)\n",
      "    img = cv2.cvtColor(img, cv2.COLOR_BGR2RGB)\n",
      "    H, W, _ = img.shape\n",
      "    dH = H/7.\n",
      "    dW = W/7.105\n",
      "    y = c//7\n",
      "    x = c%7 \n",
      "    label_image = img[round(y*dH):round(y*dH+dH), round(x*dW):round(x*dW+dW),:]\n",
      "    label_image = cv2.resize(label_image, (0,0), fx=32./dW, fy=32./dH,)\n",
      "    return label_image\n",
      "\n",
      "\n",
      "def insert_subimage(image, sub_image, y, x): \n",
      "    h, w, c = sub_image.shape\n",
      "    image[y:y+h, x:x+w, :]=sub_image \n",
      "    return image\n",
      "  31:\n",
      "def get_label_image(c): \n",
      "    img=cv2.imread(signnames_path,1)\n",
      "    img = cv2.cvtColor(img, cv2.COLOR_BGR2RGB)\n",
      "    H, W, _ = img.shape\n",
      "    dH = H/7.\n",
      "    dW = W/7.105\n",
      "    y = c//7\n",
      "    x = c%7 \n",
      "    label_image = img[round(y*dH):round(y*dH+dH), round(x*dW):round(x*dW+dW),:]\n",
      "    label_image = cv2.resize(label_image, (0,0), fx=32./dW, fy=32./dH,)\n",
      "    return label_image\n",
      "\n",
      "\n",
      "def insert_subimage(image, sub_image, y, x): \n",
      "    h, w, c = sub_image.shape\n",
      "    image[y:y+h, x:x+w, :]=sub_image \n",
      "    return image\n",
      " 440:\n",
      "import cv2 \n",
      "\n",
      "img = cv2.imread('IMAGE_LOCATION')\n",
      "import os\n",
      "import matplotlib.image as mpimg\n",
      "i = 0\n",
      "for file in os.listdir('real_signs/')[:5]:\n",
      "  \n",
      "        img =  cv2.imread('real_signs/' + file)\n",
      "        img_fin = cv2.resize(img, (32,32))\n",
      "        imshow(img_fin)\n",
      " 441:\n",
      "import cv2 \n",
      "\n",
      "img = cv2.imread('IMAGE_LOCATION')\n",
      "import os\n",
      "import matplotlib.image as mpimg\n",
      "i = 0\n",
      "for file in os.listdir('real_signs/')[:5]:\n",
      "\n",
      "        img =  cv2.imread('real_signs/' + file)\n",
      "        img_fin = cv2.resize(img, (32,32))\n",
      "        imshow(img_fin)\n",
      " 442:\n",
      "import cv2 \n",
      "\n",
      "img = cv2.imread('IMAGE_LOCATION')\n",
      "import os\n",
      "import matplotlib.image as mpimg\n",
      "i = 0\n",
      "for file in os.listdir('real_signs/')[:5]:\n",
      "        img =  cv2.imread('real_signs/' + file)\n",
      "        img_fin = cv2.resize(img, (32,32))\n",
      "        imshow(img_fin)\n",
      "        plt.show()\n",
      " 443:\n",
      "import cv2 \n",
      "\n",
      "import os\n",
      "import matplotlib.image as mpimg\n",
      "i = 0\n",
      "for file in os.listdir('/Users/shleifer/Downloads/TrafficSignsRuDe/Germany/')[:5]:\n",
      "        img =  cv2.imread('real_signs/' + file)\n",
      "        img_fin = cv2.resize(img, (32,32))\n",
      "        imshow(img_fin)\n",
      "        plt.show()\n",
      " 447:\n",
      "import cv2 \n",
      "\n",
      "import os\n",
      "import matplotlib.image as mpimg\n",
      "i = 0\n",
      "for file in files:\n",
      "        img =  cv2.imread(file)\n",
      "        img_fin = cv2.resize(img, (32,32))\n",
      "        imshow(img_fin)\n",
      "        plt.show()\n",
      " 448:\n",
      "import cv2 \n",
      "\n",
      "import os\n",
      "import matplotlib.image as mpimg\n",
      "i = 0\n",
      "for file in files:\n",
      "        img =  cv2.imread(file)\n",
      "        print(img.shape)\n",
      "        img_fin = cv2.resize(img, (32,32))\n",
      "        imshow(img_fin)\n",
      "        plt.show()\n",
      " 508: %history -g cv2.resize?\n",
      " 509: cv2.resize?\n",
      " 510: cv2.reshape\n",
      " 511: %history -g cv2.re\n"
     ]
    }
   ],
   "source": [
    "%history -g cv2.re"
   ]
  },
  {
   "cell_type": "code",
   "execution_count": null,
   "metadata": {
    "collapsed": true
   },
   "outputs": [],
   "source": [
    "%history -g cv2.resize"
   ]
  },
  {
   "cell_type": "code",
   "execution_count": 487,
   "metadata": {},
   "outputs": [
    {
     "data": {
      "text/plain": [
       "(32, 32, 3)"
      ]
     },
     "execution_count": 487,
     "metadata": {},
     "output_type": "execute_result"
    }
   ],
   "source": [
    "imgs[0].shape"
   ]
  },
  {
   "cell_type": "code",
   "execution_count": 493,
   "metadata": {},
   "outputs": [
    {
     "data": {
      "text/plain": [
       "20.345875084916397"
      ]
     },
     "execution_count": 493,
     "metadata": {},
     "output_type": "execute_result"
    }
   ],
   "source": [
    "imgs[3].std()"
   ]
  },
  {
   "cell_type": "code",
   "execution_count": 501,
   "metadata": {},
   "outputs": [
    {
     "data": {
      "text/plain": [
       "(1, 32, 32, 3)"
      ]
     },
     "execution_count": 501,
     "metadata": {},
     "output_type": "execute_result"
    }
   ],
   "source": [
    "np.array([(img / 127.5 - 1)]).shape"
   ]
  },
  {
   "cell_type": "code",
   "execution_count": 503,
   "metadata": {
    "collapsed": true
   },
   "outputs": [],
   "source": [
    "sess = tf.Session()"
   ]
  },
  {
   "cell_type": "code",
   "execution_count": 504,
   "metadata": {
    "collapsed": true
   },
   "outputs": [],
   "source": [
    "saver.restore(sess, './lenet_dropout')"
   ]
  },
  {
   "cell_type": "code",
   "execution_count": 513,
   "metadata": {},
   "outputs": [
    {
     "data": {
      "text/plain": [
       "ClassId\n",
       "0                                  Speed limit (20km/h)\n",
       "1                                  Speed limit (30km/h)\n",
       "2                                  Speed limit (50km/h)\n",
       "3                                  Speed limit (60km/h)\n",
       "4                                  Speed limit (70km/h)\n",
       "5                                  Speed limit (80km/h)\n",
       "6                           End of speed limit (80km/h)\n",
       "7                                 Speed limit (100km/h)\n",
       "8                                 Speed limit (120km/h)\n",
       "9                                            No passing\n",
       "10         No passing for vehicles over 3.5 metric tons\n",
       "11                Right-of-way at the next intersection\n",
       "12                                        Priority road\n",
       "13                                                Yield\n",
       "14                                                 Stop\n",
       "15                                          No vehicles\n",
       "16             Vehicles over 3.5 metric tons prohibited\n",
       "17                                             No entry\n",
       "18                                      General caution\n",
       "19                          Dangerous curve to the left\n",
       "20                         Dangerous curve to the right\n",
       "21                                         Double curve\n",
       "22                                           Bumpy road\n",
       "23                                        Slippery road\n",
       "24                            Road narrows on the right\n",
       "25                                            Road work\n",
       "26                                      Traffic signals\n",
       "27                                          Pedestrians\n",
       "28                                    Children crossing\n",
       "29                                    Bicycles crossing\n",
       "30                                   Beware of ice/snow\n",
       "31                                Wild animals crossing\n",
       "32                  End of all speed and passing limits\n",
       "33                                     Turn right ahead\n",
       "34                                      Turn left ahead\n",
       "35                                           Ahead only\n",
       "36                                 Go straight or right\n",
       "37                                  Go straight or left\n",
       "38                                           Keep right\n",
       "39                                            Keep left\n",
       "40                                 Roundabout mandatory\n",
       "41                                    End of no passing\n",
       "42    End of no passing by vehicles over 3.5 metric ...\n",
       "Name: SignName, dtype: object"
      ]
     },
     "execution_count": 513,
     "metadata": {},
     "output_type": "execute_result"
    }
   ],
   "source": [
    "classnames"
   ]
  },
  {
   "cell_type": "code",
   "execution_count": 516,
   "metadata": {},
   "outputs": [
    {
     "data": {
      "image/png": "[encoded data removed]",
      "text/plain": [
       "<matplotlib.figure.Figure at 0x178310780>"
      ]
     },
     "metadata": {},
     "output_type": "display_data"
    },
    {
     "data": {
      "image/png": "[encoded data removed]",
      "text/plain": [
       "<matplotlib.figure.Figure at 0x17ed13ef0>"
      ]
     },
     "metadata": {},
     "output_type": "display_data"
    },
    {
     "data": {
      "image/png": "[encoded data removed]",
      "text/plain": [
       "<matplotlib.figure.Figure at 0x1762a52b0>"
      ]
     },
     "metadata": {},
     "output_type": "display_data"
    },
    {
     "data": {
      "image/png": "[encoded data removed]",
      "text/plain": [
       "<matplotlib.figure.Figure at 0x1762a8eb8>"
      ]
     },
     "metadata": {},
     "output_type": "display_data"
    },
    {
     "data": {
      "image/png": "[encoded data removed]",
      "text/plain": [
       "<matplotlib.figure.Figure at 0x13c091400>"
      ]
     },
     "metadata": {},
     "output_type": "display_data"
    },
    {
     "data": {
      "image/png": "[encoded data removed]",
      "text/plain": [
       "<matplotlib.figure.Figure at 0x13f3b13c8>"
      ]
     },
     "metadata": {},
     "output_type": "display_data"
    },
    {
     "data": {
      "image/png": "[encoded data removed]",
      "text/plain": [
       "<matplotlib.figure.Figure at 0x17dd67320>"
      ]
     },
     "metadata": {},
     "output_type": "display_data"
    },
    {
     "data": {
      "image/png": "[encoded data removed]",
      "text/plain": [
       "<matplotlib.figure.Figure at 0x190016240>"
      ]
     },
     "metadata": {},
     "output_type": "display_data"
    }
   ],
   "source": [
    "\n",
    "for file in files:\n",
    "    img = cv2.imread(file)\n",
    "    img = cv2.resize(img, (32,32))\n",
    "    im_normalized = np.array([(img / 127.5 - 1)])\n",
    "    softmax_prob = sess.run(tf.nn.softmax(logits),\n",
    "                                feed_dict={x:im_normalized, \n",
    "                                           keep_prob:1.0})\n",
    "\n",
    "    pred_name = classnames.loc[pd.Series(softmax_prob[0]).idxmax()]\n",
    "    fig = plt.figure(figsize=(15,2))\n",
    "    ax = fig.add_subplot(1,2,1) \n",
    "    img = mpimg.imread(file)\n",
    "    ax.imshow(img)\n",
    "\n",
    "    ax = fig.add_subplot(1,2,2) \n",
    "    ax.set_xticks(np.arange(0,43,1))\n",
    "    plt.plot(softmax_prob[0])\n",
    "    plt.title('Highest: {}: {:.2f}'.format(pred_name, max(softmax_prob[0])))\n",
    "    for tick in ax.xaxis.get_major_ticks():\n",
    "        tick.label.set_fontsize('x-small') \n",
    "        tick.label.set_rotation('vertical')\n",
    "    plt.grid()\n",
    "    plt.show()"
   ]
  },
  {
   "cell_type": "markdown",
   "metadata": {},
   "source": [
    "### Predict the Sign Type for Each Image"
   ]
  },
  {
   "cell_type": "code",
   "execution_count": null,
   "metadata": {
    "collapsed": true
   },
   "outputs": [],
   "source": [
    "### Run the predictions here and use the model to output the prediction for each image.\n",
    "### Make sure to pre-process the images with the same pre-processing pipeline used earlier.\n",
    "### Feel free to use as many code cells as needed."
   ]
  },
  {
   "cell_type": "markdown",
   "metadata": {},
   "source": [
    "### Analyze Performance"
   ]
  },
  {
   "cell_type": "code",
   "execution_count": null,
   "metadata": {
    "collapsed": true
   },
   "outputs": [],
   "source": [
    "### Calculate the accuracy for these 5 new images. \n",
    "### For example, if the model predicted 1 out of 5 signs correctly, it's 20% accurate on these new images."
   ]
  },
  {
   "cell_type": "markdown",
   "metadata": {},
   "source": [
    "### Output Top 5 Softmax Probabilities For Each Image Found on the Web"
   ]
  },
  {
   "cell_type": "markdown",
   "metadata": {},
   "source": [
    "For each of the new images, print out the model's softmax probabilities to show the **certainty** of the model's predictions (limit the output to the top 5 probabilities for each image). [`tf.nn.top_k`](https://www.tensorflow.org/versions/r0.12/api_docs/python/nn.html#top_k) could prove helpful here. \n",
    "\n",
    "The example below demonstrates how tf.nn.top_k can be used to find the top k predictions for each image.\n",
    "\n",
    "`tf.nn.top_k` will return the values and indices (class ids) of the top k predictions. So if k=3, for each sign, it'll return the 3 largest probabilities (out of a possible 43) and the correspoding class ids.\n",
    "\n",
    "Take this numpy array as an example. The values in the array represent predictions. The array contains softmax probabilities for five candidate images with six possible classes. `tf.nn.top_k` is used to choose the three classes with the highest probability:\n",
    "\n",
    "```\n",
    "# (5, 6) array\n",
    "a = np.array([[ 0.24879643,  0.07032244,  0.12641572,  0.34763842,  0.07893497,\n",
    "         0.12789202],\n",
    "       [ 0.28086119,  0.27569815,  0.08594638,  0.0178669 ,  0.18063401,\n",
    "         0.15899337],\n",
    "       [ 0.26076848,  0.23664738,  0.08020603,  0.07001922,  0.1134371 ,\n",
    "         0.23892179],\n",
    "       [ 0.11943333,  0.29198961,  0.02605103,  0.26234032,  0.1351348 ,\n",
    "         0.16505091],\n",
    "       [ 0.09561176,  0.34396535,  0.0643941 ,  0.16240774,  0.24206137,\n",
    "         0.09155967]])\n",
    "```\n",
    "\n",
    "Running it through `sess.run(tf.nn.top_k(tf.constant(a), k=3))` produces:\n",
    "\n",
    "```\n",
    "TopKV2(values=array([[ 0.34763842,  0.24879643,  0.12789202],\n",
    "       [ 0.28086119,  0.27569815,  0.18063401],\n",
    "       [ 0.26076848,  0.23892179,  0.23664738],\n",
    "       [ 0.29198961,  0.26234032,  0.16505091],\n",
    "       [ 0.34396535,  0.24206137,  0.16240774]]), indices=array([[3, 0, 5],\n",
    "       [0, 1, 4],\n",
    "       [0, 5, 1],\n",
    "       [1, 3, 5],\n",
    "       [1, 4, 3]], dtype=int32))\n",
    "```\n",
    "\n",
    "Looking just at the first row we get `[ 0.34763842,  0.24879643,  0.12789202]`, you can confirm these are the 3 largest probabilities in `a`. You'll also notice `[3, 0, 5]` are the corresponding indices."
   ]
  },
  {
   "cell_type": "code",
   "execution_count": null,
   "metadata": {
    "collapsed": true
   },
   "outputs": [],
   "source": [
    "### Print out the top five softmax probabilities for the predictions on the German traffic sign images found on the web. \n",
    "### Feel free to use as many code cells as needed."
   ]
  },
  {
   "cell_type": "markdown",
   "metadata": {},
   "source": [
    "### Project Writeup\n",
    "\n",
    "Once you have completed the code implementation, document your results in a project writeup using this [template](https://github.com/udacity/CarND-Traffic-Sign-Classifier-Project/blob/master/writeup_template.md) as a guide. The writeup can be in a markdown or pdf file. "
   ]
  },
  {
   "cell_type": "markdown",
   "metadata": {},
   "source": [
    "> **Note**: Once you have completed all of the code implementations and successfully answered each question above, you may finalize your work by exporting the iPython Notebook as an HTML document. You can do this by using the menu above and navigating to  \\n\",\n",
    "    \"**File -> Download as -> HTML (.html)**. Include the finished document along with this notebook as your submission."
   ]
  },
  {
   "cell_type": "markdown",
   "metadata": {},
   "source": [
    "---\n",
    "\n",
    "## Step 4 (Optional): Visualize the Neural Network's State with Test Images\n",
    "\n",
    " This Section is not required to complete but acts as an additional excersise for understaning the output of a neural network's weights. While neural networks can be a great learning device they are often referred to as a black box. We can understand what the weights of a neural network look like better by plotting their feature maps. After successfully training your neural network you can see what it's feature maps look like by plotting the output of the network's weight layers in response to a test stimuli image. From these plotted feature maps, it's possible to see what characteristics of an image the network finds interesting. For a sign, maybe the inner network feature maps react with high activation to the sign's boundary outline or to the contrast in the sign's painted symbol.\n",
    "\n",
    " Provided for you below is the function code that allows you to get the visualization output of any tensorflow weight layer you want. The inputs to the function should be a stimuli image, one used during training or a new one you provided, and then the tensorflow variable name that represents the layer's state during the training process, for instance if you wanted to see what the [LeNet lab's](https://classroom.udacity.com/nanodegrees/nd013/parts/fbf77062-5703-404e-b60c-95b78b2f3f9e/modules/6df7ae49-c61c-4bb2-a23e-6527e69209ec/lessons/601ae704-1035-4287-8b11-e2c2716217ad/concepts/d4aca031-508f-4e0b-b493-e7b706120f81) feature maps looked like for it's second convolutional layer you could enter conv2 as the tf_activation variable.\n",
    "\n",
    "For an example of what feature map outputs look like, check out NVIDIA's results in their paper [End-to-End Deep Learning for Self-Driving Cars](https://devblogs.nvidia.com/parallelforall/deep-learning-self-driving-cars/) in the section Visualization of internal CNN State. NVIDIA was able to show that their network's inner weights had high activations to road boundary lines by comparing feature maps from an image with a clear path to one without. Try experimenting with a similar test to show that your trained network's weights are looking for interesting features, whether it's looking at differences in feature maps from images with or without a sign, or even what feature maps look like in a trained network vs a completely untrained one on the same sign image.\n",
    "\n",
    "<figure>\n",
    " <img src=\"visualize_cnn.png\" width=\"380\" alt=\"Combined Image\" />\n",
    " <figcaption>\n",
    " <p></p> \n",
    " <p style=\"text-align: center;\"> Your output should look something like this (above)</p> \n",
    " </figcaption>\n",
    "</figure>\n",
    " <p></p> \n"
   ]
  },
  {
   "cell_type": "code",
   "execution_count": null,
   "metadata": {
    "collapsed": true
   },
   "outputs": [],
   "source": [
    "### Visualize your network's feature maps here.\n",
    "### Feel free to use as many code cells as needed.\n",
    "\n",
    "# image_input: the test image being fed into the network to produce the feature maps\n",
    "# tf_activation: should be a tf variable name used during your training procedure that represents the calculated state of a specific weight layer\n",
    "# activation_min/max: can be used to view the activation contrast in more detail, by default matplot sets min and max to the actual min and max values of the output\n",
    "# plt_num: used to plot out multiple different weight feature map sets on the same block, just extend the plt number for each new feature map entry\n",
    "\n",
    "def outputFeatureMap(image_input, tf_activation, activation_min=-1, activation_max=-1 ,plt_num=1):\n",
    "    # Here make sure to preprocess your image_input in a way your network expects\n",
    "    # with size, normalization, ect if needed\n",
    "    # image_input =\n",
    "    # Note: x should be the same name as your network's tensorflow data placeholder variable\n",
    "    # If you get an error tf_activation is not defined it may be having trouble accessing the variable from inside a function\n",
    "    activation = tf_activation.eval(session=sess,feed_dict={x : image_input})\n",
    "    featuremaps = activation.shape[3]\n",
    "    plt.figure(plt_num, figsize=(15,15))\n",
    "    for featuremap in range(featuremaps):\n",
    "        plt.subplot(6,8, featuremap+1) # sets the number of feature maps to show on each row and column\n",
    "        plt.title('FeatureMap ' + str(featuremap)) # displays the feature map number\n",
    "        if activation_min != -1 & activation_max != -1:\n",
    "            plt.imshow(activation[0,:,:, featuremap], interpolation=\"nearest\", vmin =activation_min, vmax=activation_max, cmap=\"gray\")\n",
    "        elif activation_max != -1:\n",
    "            plt.imshow(activation[0,:,:, featuremap], interpolation=\"nearest\", vmax=activation_max, cmap=\"gray\")\n",
    "        elif activation_min !=-1:\n",
    "            plt.imshow(activation[0,:,:, featuremap], interpolation=\"nearest\", vmin=activation_min, cmap=\"gray\")\n",
    "        else:\n",
    "            plt.imshow(activation[0,:,:, featuremap], interpolation=\"nearest\", cmap=\"gray\")"
   ]
  }
 ],
 "metadata": {
  "anaconda-cloud": {},
  "kernelspec": {
   "display_name": "Python 3",
   "language": "python",
   "name": "python3"
  },
  "language_info": {
   "codemirror_mode": {
    "name": "ipython",
    "version": 3
   },
   "file_extension": ".py",
   "mimetype": "text/x-python",
   "name": "python",
   "nbconvert_exporter": "python",
   "pygments_lexer": "ipython3",
   "version": "3.5.2"
  },
  "widgets": {
   "state": {},
   "version": "1.1.2"
  }
 },
 "nbformat": 4,
 "nbformat_minor": 1
}
